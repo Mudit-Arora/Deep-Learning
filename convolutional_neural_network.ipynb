{
 "cells": [
  {
   "cell_type": "markdown",
   "metadata": {
    "id": "3DR-eO17geWu"
   },
   "source": [
    "# Convolutional Neural Network"
   ]
  },
  {
   "cell_type": "markdown",
   "metadata": {
    "id": "EMefrVPCg-60"
   },
   "source": [
    "### Importing the libraries"
   ]
  },
  {
   "cell_type": "code",
   "execution_count": 2,
   "metadata": {
    "id": "e_OcubFfYlNA"
   },
   "outputs": [],
   "source": [
    "import tensorflow as tf\n",
    "import numpy as np\n",
    "from keras.preprocessing import image\n",
    "from keras.preprocessing.image import ImageDataGenerator # generate batches of tensor"
   ]
  },
  {
   "cell_type": "markdown",
   "metadata": {
    "id": "oxQxCBWyoGPE"
   },
   "source": [
    "## Part 1 - Data Preprocessing"
   ]
  },
  {
   "cell_type": "markdown",
   "metadata": {
    "id": "MvE-heJNo3GG"
   },
   "source": [
    "### Preprocessing the Training set"
   ]
  },
  {
   "cell_type": "code",
   "execution_count": 3,
   "metadata": {
    "colab": {
     "base_uri": "https://localhost:8080/",
     "height": 495
    },
    "id": "qT61QTjFY-St",
    "outputId": "85afb688-d861-44c0-c036-8392a1272a46"
   },
   "outputs": [
    {
     "name": "stdout",
     "output_type": "stream",
     "text": [
      "Found 8000 images belonging to 2 classes.\n"
     ]
    }
   ],
   "source": [
    "batch_size = 32\n",
    "\n",
    "# image augmentation\n",
    "train_datagen = ImageDataGenerator(\n",
    "        rescale=1./255,\n",
    "        shear_range=0.2,\n",
    "        zoom_range=0.2,\n",
    "        horizontal_flip=True)\n",
    "\n",
    "# this is a generator that will read pictures found in\n",
    "# subfolers of 'data/train', and indefinitely generate\n",
    "# batches of augmented image data\n",
    "training_set = train_datagen.flow_from_directory(\n",
    "        'dataset/training_set',  # this is the target directory\n",
    "        target_size=(64, 64),  # all images will be resized to 64x64\n",
    "        batch_size=batch_size,\n",
    "        class_mode='binary')  # since we use binary_crossentropy loss, we need binary labels"
   ]
  },
  {
   "cell_type": "markdown",
   "metadata": {
    "id": "mrCMmGw9pHys"
   },
   "source": [
    "### Preprocessing the Test set"
   ]
  },
  {
   "cell_type": "code",
   "execution_count": 4,
   "metadata": {
    "id": "rP-d3-9B-Mhc"
   },
   "outputs": [
    {
     "name": "stdout",
     "output_type": "stream",
     "text": [
      "Found 2000 images belonging to 2 classes.\n"
     ]
    }
   ],
   "source": [
    "test_datagen = ImageDataGenerator(rescale=1./255)\n",
    "test_set = test_datagen.flow_from_directory(\n",
    "        'dataset/test_set',\n",
    "        target_size=(64, 64),\n",
    "        batch_size=batch_size,\n",
    "        class_mode='binary')"
   ]
  },
  {
   "cell_type": "markdown",
   "metadata": {
    "id": "af8O4l90gk7B"
   },
   "source": [
    "## Part 2 - Building the CNN"
   ]
  },
  {
   "cell_type": "markdown",
   "metadata": {
    "id": "ces1gXY2lmoX"
   },
   "source": [
    "### Initialising the CNN"
   ]
  },
  {
   "cell_type": "code",
   "execution_count": 5,
   "metadata": {
    "id": "hNqtUIxXRD6k"
   },
   "outputs": [],
   "source": [
    "cnn = tf.keras.models.Sequential()"
   ]
  },
  {
   "cell_type": "markdown",
   "metadata": {
    "id": "u5YJj_XMl5LF"
   },
   "source": [
    "### Step 1 - Convolution"
   ]
  },
  {
   "cell_type": "code",
   "execution_count": 6,
   "metadata": {
    "id": "2G0seHbZRNxY"
   },
   "outputs": [],
   "source": [
    "# we create many feature maps top obtain our first convolution layer\n",
    "# a feature map is a core part of cnn that helps in decision-making\n",
    "cnn.add(tf.keras.layers.Conv2D(filters=32, kernel_size=3, activation='relu', input_shape=[64, 64, 3]))"
   ]
  },
  {
   "cell_type": "markdown",
   "metadata": {
    "id": "tf87FpvxmNOJ"
   },
   "source": [
    "### Step 2 - Pooling"
   ]
  },
  {
   "cell_type": "code",
   "execution_count": 7,
   "metadata": {
    "id": "wLKAi8grpzjo"
   },
   "outputs": [],
   "source": [
    "# converting the feature map into pooled feature map\n",
    "cnn.add(tf.keras.layers.MaxPool2D(pool_size=2, strides=2))"
   ]
  },
  {
   "cell_type": "markdown",
   "metadata": {
    "id": "xaTOgD8rm4mU"
   },
   "source": [
    "### Adding a second convolutional layer"
   ]
  },
  {
   "cell_type": "code",
   "execution_count": 8,
   "metadata": {
    "id": "M2kMRg_CqprC"
   },
   "outputs": [],
   "source": [
    "cnn.add(tf.keras.layers.Conv2D(filters=32, kernel_size=3, activation='relu'))\n",
    "cnn.add(tf.keras.layers.MaxPool2D(pool_size=2, strides=2))"
   ]
  },
  {
   "cell_type": "markdown",
   "metadata": {
    "id": "tmiEuvTunKfk"
   },
   "source": [
    "### Step 3 - Flattening"
   ]
  },
  {
   "cell_type": "code",
   "execution_count": 9,
   "metadata": {
    "id": "sPnlGu8wqxAp"
   },
   "outputs": [],
   "source": [
    "# converting the pooled featured map into 1D\n",
    "cnn.add(tf.keras.layers.Flatten())"
   ]
  },
  {
   "cell_type": "markdown",
   "metadata": {
    "id": "dAoSECOm203v"
   },
   "source": [
    "### Step 4 - Full Connection"
   ]
  },
  {
   "cell_type": "code",
   "execution_count": 10,
   "metadata": {
    "id": "heCTbA7jsG9s"
   },
   "outputs": [],
   "source": [
    "cnn.add(tf.keras.layers.Dense(units=128, activation='relu'))"
   ]
  },
  {
   "cell_type": "markdown",
   "metadata": {
    "id": "yTldFvbX28Na"
   },
   "source": [
    "### Step 5 - Output Layer"
   ]
  },
  {
   "cell_type": "code",
   "execution_count": 11,
   "metadata": {
    "id": "LV9mKlAjtP37"
   },
   "outputs": [],
   "source": [
    "# using sigmoid activation function for binary classification, use softmax for multi-class\n",
    "cnn.add(tf.keras.layers.Dense(units=1, activation='sigmoid'))"
   ]
  },
  {
   "cell_type": "markdown",
   "metadata": {
    "id": "D6XkI90snSDl"
   },
   "source": [
    "## Part 3 - Training the CNN"
   ]
  },
  {
   "cell_type": "markdown",
   "metadata": {
    "id": "vfrFQACEnc6i"
   },
   "source": [
    "### Compiling the CNN"
   ]
  },
  {
   "cell_type": "code",
   "execution_count": 12,
   "metadata": {
    "id": "o7kO8rkxt_gK"
   },
   "outputs": [],
   "source": [
    "# stochastic gradient descent is used to minimize the cost function\n",
    "cnn.compile(optimizer='adam', loss='binary_crossentropy', metrics=['accuracy'])"
   ]
  },
  {
   "cell_type": "markdown",
   "metadata": {
    "id": "ehS-v3MIpX2h"
   },
   "source": [
    "### Training the CNN on the Training set and evaluating it on the Test set"
   ]
  },
  {
   "cell_type": "code",
   "execution_count": 13,
   "metadata": {
    "id": "jqjZwJH6uzM0"
   },
   "outputs": [
    {
     "name": "stdout",
     "output_type": "stream",
     "text": [
      "Epoch 1/30\n",
      "250/250 [==============================] - 23s 90ms/step - loss: 0.6763 - accuracy: 0.5782 - val_loss: 0.6339 - val_accuracy: 0.6420\n",
      "Epoch 2/30\n",
      "250/250 [==============================] - 21s 84ms/step - loss: 0.6259 - accuracy: 0.6581 - val_loss: 0.5913 - val_accuracy: 0.6860\n",
      "Epoch 3/30\n",
      "250/250 [==============================] - 20s 81ms/step - loss: 0.5854 - accuracy: 0.6944 - val_loss: 0.6302 - val_accuracy: 0.6600\n",
      "Epoch 4/30\n",
      "250/250 [==============================] - 18s 73ms/step - loss: 0.5470 - accuracy: 0.7247 - val_loss: 0.6109 - val_accuracy: 0.6935\n",
      "Epoch 5/30\n",
      "250/250 [==============================] - 20s 81ms/step - loss: 0.5254 - accuracy: 0.7372 - val_loss: 0.6832 - val_accuracy: 0.6570\n",
      "Epoch 6/30\n",
      "250/250 [==============================] - 21s 82ms/step - loss: 0.4965 - accuracy: 0.7564 - val_loss: 0.4930 - val_accuracy: 0.7625\n",
      "Epoch 7/30\n",
      "250/250 [==============================] - 31s 123ms/step - loss: 0.4872 - accuracy: 0.7646 - val_loss: 0.4874 - val_accuracy: 0.7665\n",
      "Epoch 8/30\n",
      "250/250 [==============================] - 29s 118ms/step - loss: 0.4691 - accuracy: 0.7747 - val_loss: 0.4903 - val_accuracy: 0.7740\n",
      "Epoch 9/30\n",
      "250/250 [==============================] - 28s 110ms/step - loss: 0.4442 - accuracy: 0.7900 - val_loss: 0.4851 - val_accuracy: 0.7670\n",
      "Epoch 10/30\n",
      "250/250 [==============================] - 28s 111ms/step - loss: 0.4353 - accuracy: 0.7966 - val_loss: 0.5358 - val_accuracy: 0.7475\n",
      "Epoch 11/30\n",
      "250/250 [==============================] - 38s 151ms/step - loss: 0.4211 - accuracy: 0.8060 - val_loss: 0.4884 - val_accuracy: 0.7670\n",
      "Epoch 12/30\n",
      "250/250 [==============================] - 33s 133ms/step - loss: 0.4081 - accuracy: 0.8086 - val_loss: 0.4544 - val_accuracy: 0.7905\n",
      "Epoch 13/30\n",
      "250/250 [==============================] - 30s 121ms/step - loss: 0.3922 - accuracy: 0.8177 - val_loss: 0.4996 - val_accuracy: 0.7865\n",
      "Epoch 14/30\n",
      "250/250 [==============================] - 25s 100ms/step - loss: 0.3784 - accuracy: 0.8281 - val_loss: 0.5607 - val_accuracy: 0.7725\n",
      "Epoch 15/30\n",
      "250/250 [==============================] - 34s 136ms/step - loss: 0.3734 - accuracy: 0.8317 - val_loss: 0.4719 - val_accuracy: 0.7925\n",
      "Epoch 16/30\n",
      "250/250 [==============================] - 26s 104ms/step - loss: 0.3590 - accuracy: 0.8404 - val_loss: 0.4936 - val_accuracy: 0.7880\n",
      "Epoch 17/30\n",
      "250/250 [==============================] - 32s 126ms/step - loss: 0.3429 - accuracy: 0.8484 - val_loss: 0.4939 - val_accuracy: 0.7860\n",
      "Epoch 18/30\n",
      "250/250 [==============================] - 31s 123ms/step - loss: 0.3337 - accuracy: 0.8496 - val_loss: 0.5491 - val_accuracy: 0.7735\n",
      "Epoch 19/30\n",
      "250/250 [==============================] - 35s 142ms/step - loss: 0.3213 - accuracy: 0.8585 - val_loss: 0.5111 - val_accuracy: 0.8060\n",
      "Epoch 20/30\n",
      "250/250 [==============================] - 35s 139ms/step - loss: 0.3034 - accuracy: 0.8658 - val_loss: 0.4936 - val_accuracy: 0.7830\n",
      "Epoch 21/30\n",
      "250/250 [==============================] - 28s 113ms/step - loss: 0.2942 - accuracy: 0.8740 - val_loss: 0.5368 - val_accuracy: 0.7820\n",
      "Epoch 22/30\n",
      "250/250 [==============================] - 26s 103ms/step - loss: 0.2856 - accuracy: 0.8781 - val_loss: 0.5410 - val_accuracy: 0.7760\n",
      "Epoch 23/30\n",
      "250/250 [==============================] - 24s 98ms/step - loss: 0.2853 - accuracy: 0.8766 - val_loss: 0.5223 - val_accuracy: 0.7790\n",
      "Epoch 24/30\n",
      "250/250 [==============================] - 28s 111ms/step - loss: 0.2599 - accuracy: 0.8881 - val_loss: 0.5344 - val_accuracy: 0.8005\n",
      "Epoch 25/30\n",
      "250/250 [==============================] - 29s 115ms/step - loss: 0.2559 - accuracy: 0.8938 - val_loss: 0.5777 - val_accuracy: 0.7840\n",
      "Epoch 26/30\n",
      "250/250 [==============================] - 35s 139ms/step - loss: 0.2342 - accuracy: 0.9065 - val_loss: 0.5275 - val_accuracy: 0.7960\n",
      "Epoch 27/30\n",
      "250/250 [==============================] - 29s 117ms/step - loss: 0.2209 - accuracy: 0.9085 - val_loss: 0.5805 - val_accuracy: 0.7960\n",
      "Epoch 28/30\n",
      "250/250 [==============================] - 27s 107ms/step - loss: 0.2101 - accuracy: 0.9137 - val_loss: 0.5584 - val_accuracy: 0.7840\n",
      "Epoch 29/30\n",
      "250/250 [==============================] - 27s 107ms/step - loss: 0.2159 - accuracy: 0.9145 - val_loss: 0.5794 - val_accuracy: 0.7965\n",
      "Epoch 30/30\n",
      "250/250 [==============================] - 30s 118ms/step - loss: 0.2044 - accuracy: 0.9168 - val_loss: 0.6212 - val_accuracy: 0.7920\n"
     ]
    },
    {
     "data": {
      "text/plain": [
       "<keras.src.callbacks.History at 0x308169f50>"
      ]
     },
     "execution_count": 13,
     "metadata": {},
     "output_type": "execute_result"
    }
   ],
   "source": [
    "cnn.fit(x=training_set, validation_data=test_set, epochs=30)"
   ]
  },
  {
   "cell_type": "markdown",
   "metadata": {
    "id": "U3PZasO0006Z"
   },
   "source": [
    "## Part 4 - Making a single prediction"
   ]
  },
  {
   "cell_type": "code",
   "execution_count": 14,
   "metadata": {
    "id": "RgedvmMIvJq3"
   },
   "outputs": [
    {
     "name": "stdout",
     "output_type": "stream",
     "text": [
      "1/1 [==============================] - 0s 114ms/step\n"
     ]
    }
   ],
   "source": [
    "test_image = image.load_img('dataset/check/check1.jpg', target_size=(64, 64))\n",
    "# converts PIL format to numpy format (array)\n",
    "test_image = image.img_to_array(test_image)\n",
    "# add an extra dimension to correspond to the batch\n",
    "test_image = np.expand_dims(test_image, axis=0) # adding to 1st dimension\n",
    "result = cnn.predict(test_image)"
   ]
  },
  {
   "cell_type": "code",
   "execution_count": 15,
   "metadata": {
    "id": "Pmrf_gGj1RKH"
   },
   "outputs": [],
   "source": [
    "# Dog - 1, Cat - 0\n",
    "training_set.class_indices\n",
    "\n",
    "if result[0][0] == 1:\n",
    "  prediction = 'dog'\n",
    "else:\n",
    "  prediction = 'cat'"
   ]
  },
  {
   "cell_type": "code",
   "execution_count": 16,
   "metadata": {
    "id": "SeL7pQtn1uXP"
   },
   "outputs": [
    {
     "name": "stdout",
     "output_type": "stream",
     "text": [
      "dog\n"
     ]
    }
   ],
   "source": [
    "print(prediction)"
   ]
  }
 ],
 "metadata": {
  "colab": {
   "provenance": []
  },
  "kernelspec": {
   "display_name": "Python 3 (ipykernel)",
   "language": "python",
   "name": "python3"
  },
  "language_info": {
   "codemirror_mode": {
    "name": "ipython",
    "version": 3
   },
   "file_extension": ".py",
   "mimetype": "text/x-python",
   "name": "python",
   "nbconvert_exporter": "python",
   "pygments_lexer": "ipython3",
   "version": "3.11.1"
  }
 },
 "nbformat": 4,
 "nbformat_minor": 4
}
